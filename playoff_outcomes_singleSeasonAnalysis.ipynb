{
 "cells": [
  {
   "cell_type": "markdown",
   "metadata": {},
   "source": [
    "# Compare Playoff Seeding Outcomes For A Chosen Season\n",
    "In this notebook I've created a visualization that displays how playoffs standings would be different under the 3-2-1-0 system. \n",
    "\n",
    "Currently showing the 2017-2018 NHL season we see that the eventual cup winners, the Washington Capitals would have had a different route to the final facing the Florida Panthers instead of the Columbus Blue Jackets. Would this have changed anything? We can't say for sure. But in that series the Caps went down 0-2 against CBJ but rallied to win the next four. They won that series 4-2 and didn't look back at all continuing on to win Ovechkin's first and only Stanely Cup to date."
   ]
  },
  {
   "cell_type": "code",
   "execution_count": 1,
   "metadata": {},
   "outputs": [
    {
     "name": "stderr",
     "output_type": "stream",
     "text": [
      "/Users/brendanlai/opt/anaconda3/lib/python3.9/site-packages/scipy/__init__.py:146: UserWarning: A NumPy version >=1.16.5 and <1.23.0 is required for this version of SciPy (detected version 1.23.4\n",
      "  warnings.warn(f\"A NumPy version >={np_minversion} and <{np_maxversion}\"\n"
     ]
    }
   ],
   "source": [
    "# import potentially necessary libraries\n",
    "\n",
    "import pandas as pd\n",
    "import numpy as np\n",
    "from matplotlib import pyplot as plt\n",
    "import seaborn as sns\n",
    "from ipycanvas import Canvas\n"
   ]
  },
  {
   "cell_type": "code",
   "execution_count": 2,
   "metadata": {},
   "outputs": [],
   "source": [
    "# Select season of interest\n",
    "# NOTE: using the 2019-2020 season will be inaccurate due to COVID adding in seeding positions for how the playoff brackets were determined\n",
    "\n",
    "season_of_interest = \"20172018\""
   ]
  },
  {
   "cell_type": "code",
   "execution_count": 3,
   "metadata": {},
   "outputs": [],
   "source": [
    "df = pd.read_csv(f\"standings_dfs/{season_of_interest}_standings.csv\")\n",
    "df = df.rename(columns={'abbreviation': 'abr'})\n",
    "df['abr'] = df['abr'].astype(str)"
   ]
  },
  {
   "cell_type": "markdown",
   "metadata": {},
   "source": [
    "### Compute the standings\n",
    "Computes standings for the two different systems and store in df"
   ]
  },
  {
   "cell_type": "code",
   "execution_count": 4,
   "metadata": {},
   "outputs": [],
   "source": [
    "def compute_playoffs(row, default_or_3210):\n",
    "    # row function for computing the playoff spots\n",
    "    if default_or_3210 == \"default\":\n",
    "        return \"OUT\" if row.division_rank_def > 3 else f\"{row.division}{row.division_rank_def}\"\n",
    "    if default_or_3210 == \"3210\":\n",
    "        return \"OUT\" if row.division_rank_3210 > 3 else f\"{row.division}{row.division_rank_3210}\"\n",
    "\n",
    "def compute_wildcard(df, def_or_3210):\n",
    "    # Step 1: Identify teams that are \"out\" of the playoffs\n",
    "    if def_or_3210 == \"def\":\n",
    "        out_of_playoffs = df[df['ploffs_def'] == 'OUT']\n",
    "        playoff_column = 'ploffs_def'\n",
    "        points_column = 'points_def'\n",
    "    else:\n",
    "        out_of_playoffs = df[df['ploffs_3210'] == 'OUT']\n",
    "        playoff_column = 'ploffs_3210'\n",
    "        points_column = 'points_3210'\n",
    "\n",
    "    tiebreaker_column = 'num_wins'\n",
    "\n",
    "    # Check if there are enough teams out of playoffs\n",
    "    if len(out_of_playoffs) < len(df) / 2:\n",
    "        return df\n",
    "\n",
    "    # Step 2-4: Group, sort, and select top 2 teams in each group\n",
    "    top_teams_by_group = (\n",
    "        out_of_playoffs.groupby(['conference'])\n",
    "        .apply(lambda group: group.sort_values(by=[points_column, tiebreaker_column], ascending=False).head(2))\n",
    "        .reset_index(level='conference', drop=True)  # Reset the index to avoid ambiguity\n",
    "    )\n",
    "\n",
    "    # Step 5: Update the playoff column\n",
    "    df.loc[df['team_id'].isin(top_teams_by_group.groupby('conference').head(1)['team_id']), playoff_column] = 'WC1'\n",
    "    df.loc[df['team_id'].isin(top_teams_by_group.groupby('conference').tail(1)['team_id']), playoff_column] = 'WC2'\n",
    "\n",
    "    return df"
   ]
  },
  {
   "cell_type": "code",
   "execution_count": 5,
   "metadata": {},
   "outputs": [],
   "source": [
    "# Default system first\n",
    "# Compute divisional playoff entries\n",
    "df[\"ploffs_def\"] = df.apply(compute_playoffs, default_or_3210=\"default\", axis=1)\n",
    "df[\"ploffs_3210\"] = df.apply(compute_playoffs, default_or_3210=\"3210\", axis=1)\n",
    "df = compute_wildcard(df, \"def\")\n",
    "df = compute_wildcard(df, \"3210\")\n"
   ]
  },
  {
   "cell_type": "code",
   "execution_count": 6,
   "metadata": {},
   "outputs": [
    {
     "data": {
      "text/html": [
       "<div>\n",
       "<style scoped>\n",
       "    .dataframe tbody tr th:only-of-type {\n",
       "        vertical-align: middle;\n",
       "    }\n",
       "\n",
       "    .dataframe tbody tr th {\n",
       "        vertical-align: top;\n",
       "    }\n",
       "\n",
       "    .dataframe thead th {\n",
       "        text-align: right;\n",
       "    }\n",
       "</style>\n",
       "<table border=\"1\" class=\"dataframe\">\n",
       "  <thead>\n",
       "    <tr style=\"text-align: right;\">\n",
       "      <th></th>\n",
       "      <th>teamName</th>\n",
       "      <th>ploffs_def</th>\n",
       "      <th>ploffs_3210</th>\n",
       "    </tr>\n",
       "  </thead>\n",
       "  <tbody>\n",
       "    <tr>\n",
       "      <th>3</th>\n",
       "      <td>Panthers</td>\n",
       "      <td>OUT</td>\n",
       "      <td>WC1</td>\n",
       "    </tr>\n",
       "    <tr>\n",
       "      <th>18</th>\n",
       "      <td>Devils</td>\n",
       "      <td>WC2</td>\n",
       "      <td>MET3</td>\n",
       "    </tr>\n",
       "    <tr>\n",
       "      <th>19</th>\n",
       "      <td>Flyers</td>\n",
       "      <td>MET3</td>\n",
       "      <td>WC2</td>\n",
       "    </tr>\n",
       "    <tr>\n",
       "      <th>20</th>\n",
       "      <td>Blue Jackets</td>\n",
       "      <td>WC1</td>\n",
       "      <td>OUT</td>\n",
       "    </tr>\n",
       "  </tbody>\n",
       "</table>\n",
       "</div>"
      ],
      "text/plain": [
       "        teamName ploffs_def ploffs_3210\n",
       "3       Panthers        OUT         WC1\n",
       "18        Devils        WC2        MET3\n",
       "19        Flyers       MET3         WC2\n",
       "20  Blue Jackets        WC1         OUT"
      ]
     },
     "execution_count": 6,
     "metadata": {},
     "output_type": "execute_result"
    }
   ],
   "source": [
    "# Find teams where playoff positions changed\n",
    "df[df.ploffs_3210 != df.ploffs_def][['teamName', 'ploffs_def', 'ploffs_3210']]"
   ]
  },
  {
   "cell_type": "markdown",
   "metadata": {},
   "source": [
    "### Visualize the playoff brackets\n",
    "Matchups that changed are printed in red"
   ]
  },
  {
   "cell_type": "code",
   "execution_count": 7,
   "metadata": {},
   "outputs": [
    {
     "data": {
      "application/vnd.jupyter.widget-view+json": {
       "model_id": "f19d0a13d3ec45749d1f7c8e27e79b31",
       "version_major": 2,
       "version_minor": 0
      },
      "text/plain": [
       "Canvas(width=600)"
      ]
     },
     "metadata": {},
     "output_type": "display_data"
    }
   ],
   "source": [
    "def canvasMatchup(team1, team2, sys, conference, canvas, n):\n",
    "    # write each matchup into the canvas and return the canvas object\n",
    "    def isDiffMatchcup(team1, team2):\n",
    "        return True if team1.ploffs_def.values[0] != team1.ploffs_3210.values[0] or team2.ploffs_def.values[0] != team2.ploffs_3210.values[0] else False\n",
    "\n",
    "    if isDiffMatchcup(team1, team2):\n",
    "        canvas.fill_style = \"red\"\n",
    "    else:\n",
    "        canvas.fill_style = \"black\"\n",
    "\n",
    "\n",
    "    if conference == \"east\":\n",
    "        canvas.fill_text(\n",
    "            f\"{team1['abr'].values[0]} ({team1[f'ploffs_{sys}'].values[0]})  vs  {team2['abr'].values[0]} ({team2[f'ploffs_{sys}'].values[0]})\",\n",
    "            20 if sys == \"def\" else 350, \n",
    "            start_height + 40 * n\n",
    "        )\n",
    "    else:\n",
    "        canvas.fill_text(\n",
    "            f\"{team1['abr'].values[0]} ({team1[f'ploffs_{sys}'].values[0]})  vs  {team2['abr'].values[0]} ({team2[f'ploffs_{sys}'].values[0]})\",\n",
    "            20 if sys == \"def\" else 350, \n",
    "            30 + start_height + 40 * n\n",
    "        )\n",
    "    n += 1\n",
    "    return (canvas, n)\n",
    "\n",
    "def canvasDivionMatchups(df, div, conference, system, canvas, n):\n",
    "    # write all matchups for one division into the canvas. n used to manage printing locations\n",
    "    def compareDivWinners(df, conf, sys):\n",
    "        # Compare the division winners to get right WC matchup\n",
    "        if conf == \"east\":\n",
    "            atl1 = int(df[df.ploffs_def == \"ATL1\"][f'points_{sys}'])\n",
    "            met1 = int(df[df.ploffs_def == \"MET1\"][f'points_{sys}'])\n",
    "            return \"ATL1\" if atl1 > met1 else \"MET1\"\n",
    "        else:\n",
    "            cen1 = int(df[df.ploffs_def == \"CEN1\"][f'points_{sys}'])\n",
    "            pac1 = int(df[df.ploffs_def == \"PAC1\"][f'points_{sys}'])\n",
    "            return \"CEN1\" if cen1 > pac1 else \"PAC1\"\n",
    "\n",
    "    div_winner = df[df[f\"ploffs_{system}\"] == f\"{div}1\"] # Store div winner\n",
    "\n",
    "    if compareDivWinners(df, conference, system) ==  f\"{div}1\":\n",
    "        (canvas, n) = canvasMatchup(div_winner, df[(df[f\"ploffs_{system}\"] == 'WC2') & (df['conference'] == conference)], system, conference, canvas, n)\n",
    "    else:\n",
    "        (canvas, n) = canvasMatchup(div_winner, df[(df[f\"ploffs_{system}\"] == 'WC1') & (df['conference'] == conference)], system, conference, canvas, n)\n",
    "\n",
    "    (canvas, n) = canvasMatchup(df[df[f\"ploffs_{system}\"] == f\"{div}2\"], df[df[f\"ploffs_{system}\"] == f\"{div}3\"], system, conference, canvas, n)\n",
    "    return (canvas, n)\n",
    "\n",
    "\n",
    "def printPlayoffBrackets(df, system, canvas):\n",
    "    n = 1\n",
    "\n",
    "    # print(\"Eastern Conference\")\n",
    "    canvas.fill_text(\"Eastern Conference\", left if system == \"def\" else right, start_height)\n",
    "    (canvas, n) = canvasDivionMatchups(df, \"ATL\", \"east\", system, canvas, n)\n",
    "    (canvas, n) = canvasDivionMatchups(df, \"MET\", \"east\", system, canvas, n)\n",
    "\n",
    "    # print(\"Western Conference\")\n",
    "    canvas.fill_style = \"black\"\n",
    "    canvas.fill_text(\"Western Conference\", left if system == \"def\" else right, start_height + 200)\n",
    "    (canvas, n) = canvasDivionMatchups(df, \"CEN\", \"west\", system, canvas, n)\n",
    "    (canvas, n) = canvasDivionMatchups(df, \"PAC\", \"west\", system, canvas, n)\n",
    "\n",
    "    return canvas\n",
    "\n",
    "def canvasPlayoffComparison(df, canvas):\n",
    "    canvas = printPlayoffBrackets(df, \"def\", canvas)\n",
    "    return printPlayoffBrackets(df, \"3210\", canvas)\n",
    "\n",
    "# instantiate canvas object\n",
    "canvas = Canvas(width=600, height=500)\n",
    "\n",
    "start_height = 110\n",
    "left = 20\n",
    "right = 350\n",
    "\n",
    "# print titles\n",
    "canvas.font = \"24px serif\"\n",
    "canvas.fill_text(f\"{season_of_interest[:4]} - {season_of_interest[-4:]} NHL Playoff Bracket Comparison\", 20, 40)\n",
    "\n",
    "canvas.font = \"18px serif\"\n",
    "canvas.fill_text(\"Playoff Bracket: Default\", left, start_height - 30)\n",
    "canvas.fill_text(\"Playoff Bracket: 3-2-1-0\", right, start_height - 30)\n",
    "\n",
    "canvas.font = \"15px serif\"\n",
    "canvas.fill_text(\"VS\", 270, 260)\n",
    "\n",
    "# Print the matchups\n",
    "canvas = canvasPlayoffComparison(df, canvas)\n",
    "\n",
    "# Conference boxing\n",
    "canvas.stroke_rect(left - 5, start_height + 20, left + 185, 155)\n",
    "canvas.stroke_rect(left - 5, start_height + 210, left + 185, 155)\n",
    "\n",
    "canvas.stroke_rect(right - 5, start_height + 20, left + 185, 155)\n",
    "canvas.stroke_rect(right - 5, start_height + 210, left + 185, 155)\n",
    "\n",
    "# Display canvas\n",
    "canvas\n"
   ]
  },
  {
   "cell_type": "code",
   "execution_count": null,
   "metadata": {},
   "outputs": [],
   "source": []
  }
 ],
 "metadata": {
  "kernelspec": {
   "display_name": "base",
   "language": "python",
   "name": "python3"
  },
  "language_info": {
   "codemirror_mode": {
    "name": "ipython",
    "version": 3
   },
   "file_extension": ".py",
   "mimetype": "text/x-python",
   "name": "python",
   "nbconvert_exporter": "python",
   "pygments_lexer": "ipython3",
   "version": "3.9.12"
  }
 },
 "nbformat": 4,
 "nbformat_minor": 2
}
